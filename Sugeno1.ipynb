{
  "nbformat": 4,
  "nbformat_minor": 0,
  "metadata": {
    "colab": {
      "provenance": [],
      "authorship_tag": "ABX9TyMGXpafA7Y7Fno3SD3wtaIo"
    },
    "kernelspec": {
      "name": "python3",
      "display_name": "Python 3"
    },
    "language_info": {
      "name": "python"
    }
  },
  "cells": [
    {
      "cell_type": "code",
      "execution_count": null,
      "metadata": {
        "colab": {
          "base_uri": "https://localhost:8080/"
        },
        "id": "PcJSD2EVp-rj",
        "outputId": "1b93766d-a094-440d-ce1c-4b72e4bbdccd"
      },
      "outputs": [
        {
          "output_type": "stream",
          "name": "stdout",
          "text": [
            "Requirement already satisfied: numpy in /usr/local/lib/python3.10/dist-packages (1.23.5)\n",
            "Mounted at /content/gdrive/\n",
            "/content/gdrive/MyDrive/IA 2023\n"
          ]
        }
      ],
      "source": [
        "!pip install numpy\n",
        "from google.colab import drive\n",
        "import os\n",
        "drive.mount('/content/gdrive/')\n",
        "%cd gdrive/MyDrive/IA 2023"
      ]
    },
    {
      "cell_type": "code",
      "source": [
        "import numpy as np"
      ],
      "metadata": {
        "id": "ccj9iiEKsIrK"
      },
      "execution_count": null,
      "outputs": []
    },
    {
      "cell_type": "code",
      "source": [
        "filename = \"/content/gdrive/MyDrive/IA 2023/VDA/samplesVDA1.txt\"\n",
        "x_vda = []\n",
        "with open(filename) as f:\n",
        "  for lines in f:\n",
        "    x_vda.append(int(lines))\n",
        "\n",
        "  x_vda = np.array(x_vda)\n",
        "\n",
        "f.close()\n",
        "\n",
        "print(x_vda)\n",
        "print(len(x_vda))"
      ],
      "metadata": {
        "colab": {
          "base_uri": "https://localhost:8080/"
        },
        "id": "wQUtfgicq7M2",
        "outputId": "f470e6ed-1934-4f19-ebf1-6cf3c0681449"
      },
      "execution_count": null,
      "outputs": [
        {
          "output_type": "stream",
          "name": "stdout",
          "text": [
            "[421 424 431 440 455 474 495 518 542 565 587 608 627 645 659 669 675 679\n",
            " 678 674 669 662 652 644 635 624 615 606 597 589 582 575 570 566 562 560\n",
            " 559 558 560 560 563 565 568 571 572 573 573 572 569 567 564 562 560 558\n",
            " 558 557 557 557 558 559 559 559 560 561 562 563 562 562 562 561 560 559\n",
            " 558 556 557 555 554 553 552 551 548 546 544 541 537 534 531 528 524 521\n",
            " 518 515 512 509 507 505 502 500 498 495 494 493 492 491 492 491 492 493\n",
            " 493 495 495 496 496 496 494 493 492 491 489 488 486 485 483 480 478 477\n",
            " 475 472 472 470 468 466 464 463 461 460 459 458 457 458 458 457 457 457\n",
            " 456 457 456 456 455 455 454]\n",
            "151\n"
          ]
        }
      ]
    }
  ]
}